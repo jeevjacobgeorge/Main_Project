{
 "cells": [
  {
   "cell_type": "code",
   "execution_count": null,
   "metadata": {},
   "outputs": [],
   "source": [
    "from pyspark.sql import SparkSession\n",
    "from pyspark.sql.functions import col, hour, to_timestamp, date_format\n",
    "\n",
    "# Initialize Spark session\n",
    "spark = SparkSession.builder \\\n",
    "    .appName(\"Ticket Data Analysis\") \\\n",
    "    .getOrCreate()\n",
    "\n",
    "# Path to the folder containing the four files\n",
    "file_paths = [\"data\\filtered_pred_June2024.csv\", \"data\\filtered_pred_July2024.csv\", \"data\\filtered_pred_August2024.csvv\", \"data\\filtered_pred_September2024.csv\"]\n",
    "\n",
    "# Load the data from the files into a single DataFrame\n",
    "df = spark.read.option(\"header\", \"true\").csv(file_paths)\n",
    "\n",
    "# Convert the 'DATE_HOUR' column to a timestamp type\n",
    "df = df.withColumn(\"DATE_HOUR\", to_timestamp(col(\"DATE_HOUR\"), \"yyyy-MM-dd HH\"))\n",
    "\n",
    "# Extract the date and hour from the 'DATE_HOUR' column\n",
    "df = df.withColumn(\"DATE\", date_format(col(\"DATE_HOUR\"), \"yyyy-MM-dd\"))\n",
    "df = df.withColumn(\"HOUR\", date_format(col(\"DATE_HOUR\"), \"HH\"))\n",
    "\n",
    "# Group the data by the 'DATE' and 'HOUR' and aggregate the counts of adults and children\n",
    "df_grouped = df.groupBy(\"DATE\", \"HOUR\").agg(\n",
    "    {\"NO_OF_ADULT\": \"sum\", \"NO_OF_CHILD\": \"sum\"}\n",
    ")\n",
    "\n",
    "# Rename the aggregated columns\n",
    "df_grouped = df_grouped.withColumnRenamed(\"sum(NO_OF_ADULT)\", \"TOTAL_ADULTS\") \\\n",
    "                       .withColumnRenamed(\"sum(NO_OF_CHILD)\", \"TOTAL_CHILDREN\")\n",
    "\n",
    "# Show the result\n",
    "df_grouped.show()\n",
    "\n",
    "# Stop the Spark session when done\n",
    "spark.stop()\n"
   ]
  }
 ],
 "metadata": {
  "kernelspec": {
   "display_name": "Python 3",
   "language": "python",
   "name": "python3"
  },
  "language_info": {
   "name": "python",
   "version": "3.10.11"
  }
 },
 "nbformat": 4,
 "nbformat_minor": 2
}
