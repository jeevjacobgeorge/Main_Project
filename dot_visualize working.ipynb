{
 "cells": [
  {
   "cell_type": "code",
   "execution_count": 1,
   "metadata": {},
   "outputs": [],
   "source": [
    "import pandas as pd\n",
    "import matplotlib.pyplot as plt\n",
    "import matplotlib.animation as animation\n",
    "from pyspark.sql.functions import concat, to_timestamp, col, lit"
   ]
  },
  {
   "cell_type": "code",
   "execution_count": 2,
   "metadata": {},
   "outputs": [
    {
     "name": "stderr",
     "output_type": "stream",
     "text": [
      "your 131072x1 screen size is bogus. expect trouble\n",
      "24/12/04 17:02:19 WARN Utils: Your hostname, J4Hp resolves to a loopback address: 127.0.1.1; using 10.255.255.254 instead (on interface lo)\n",
      "24/12/04 17:02:19 WARN Utils: Set SPARK_LOCAL_IP if you need to bind to another address\n",
      "Setting default log level to \"WARN\".\n",
      "To adjust logging level use sc.setLogLevel(newLevel). For SparkR, use setLogLevel(newLevel).\n",
      "24/12/04 17:02:20 WARN NativeCodeLoader: Unable to load native-hadoop library for your platform... using builtin-java classes where applicable\n",
      "                                                                                \r"
     ]
    }
   ],
   "source": [
    "\n",
    "# Import necessary libraries\n",
    "import pandas as pd\n",
    "from pyspark.sql import SparkSession\n",
    "from pyspark.sql.functions import sum as spark_sum, col, hour, concat_ws, to_date, date_format\n",
    "# Stop any existing Spark session\n",
    "# Step 1: Initialize a Spark session\n",
    "spark = SparkSession.builder \\\n",
    "    .appName(\"BigDataProcessing\") \\\n",
    "    .config(\"spark.executor.memory\", \"4g\") \\\n",
    "    .config(\"spark.driver.memory\", \"4g\") \\\n",
    "    .getOrCreate()\n",
    "# Step 2: Load your CSV file into a Spark DataFrame\n",
    "data = spark.read.csv(\"June2024.csv\", header=True, inferSchema=True)\n"
   ]
  },
  {
   "cell_type": "code",
   "execution_count": 3,
   "metadata": {},
   "outputs": [],
   "source": [
    "from pyspark.sql.functions import to_timestamp, concat, col, lit, date_format, expr\n",
    "# Filter rows where ROUTE_ID is 'acwXkRFM'\n",
    "# data = data.filter(col(\"ROUTE_ID\") == 'acwXkRFM')\n",
    "# Step 2: Format TICKET_ISSUE_TIME as a string in \"HH:mm:ss\" format (if not already) and combine date and time\n",
    "data = data.withColumn(\"TICKET_ISSUE_TIME_STR\", date_format(col(\"TICKET_ISSUE_TIME\"), \"HH:mm:ss\"))\n",
    "data = data.withColumn(\"TICKET_DATETIME_STR\", concat(col(\"TICKET_ISSUE_DATE\"), lit(\" \"), col(\"TICKET_ISSUE_TIME_STR\")))\n",
    "\n",
    "# Step 3: Convert the combined date-time string to a timestamp format\n",
    "data = data.withColumn(\"TICKET_DATETIME\", to_timestamp(\"TICKET_DATETIME_STR\", \"dd/MM/yyyy HH:mm:ss\"))\n",
    "\n",
    "# Step 4: Round TICKET_DATETIME to the nearest 10-minute interval\n",
    "data = data.withColumn(\"TICKET_DATETIME_10MIN\", expr(\"date_trunc('minute', TICKET_DATETIME) + INTERVAL 10 MINUTE * floor(minute(TICKET_DATETIME) / 10)\"))\n"
   ]
  },
  {
   "cell_type": "code",
   "execution_count": 4,
   "metadata": {},
   "outputs": [
    {
     "name": "stdout",
     "output_type": "stream",
     "text": [
      "+--------------------+-----------------+-------------------+--------------+---------------+------------+----------+--------+-----------+------------+---------+-----------------+--------------------+-----------+-----------+----------+------+---------------+---------------+-------+------------+---------------------+-------------------+-------------------+---------------------+\n",
      "|          DEPOT_NAME|TICKET_ISSUE_DATE|  TICKET_ISSUE_TIME|WAYBILL_NUMBER|SCHEDULE_NUMBER|SERVICE_TYPE|ROUTE_NAME|ROUTE_ID|TRIP_NUMBER|          ID|TICKET_NO|   FROM_STOP_NAME|        TO_STOP_NAME|NO_OF_ADULT|NO_OF_CHILD|NO_OF_LUGG|OTHERS|TOTAL_PASSENGER|DISTANCE_TRAVEL|TRIP_KM|PAYMENT_TYPE|TICKET_ISSUE_TIME_STR|TICKET_DATETIME_STR|    TICKET_DATETIME|TICKET_DATETIME_10MIN|\n",
      "+--------------------+-----------------+-------------------+--------------+---------------+------------+----------+--------+-----------+------------+---------+-----------------+--------------------+-----------+-----------+----------+------+---------------+---------------+-------+------------+---------------------+-------------------+-------------------+---------------------+\n",
      "|TRIVANDRUM CITY D...|       31/05/2024|2024-12-04 09:03:06|      14146419|  1C 3 Duty 605|    Ordinary|     1614D|cIPyJWNe|          5|100876443615|      191|         Vembayam| East Fort Bus Stand|          2|          0|         0|     0|              2|          19.18|   12.5|        Cash|             09:03:06|31/05/2024 09:03:06|2024-05-31 09:03:06|  2024-05-31 09:03:00|\n",
      "|    PEROORKADA Depot|       31/05/2024|2024-12-04 09:01:59|      14138653|  3C-1-Duty 401|    Ordinary|3C Magenta|pXrJZCnm|          6|100876440259|      258|          Kowdiar|Thampanoor Main B...|          1|          0|         0|     0|              1|            4.9|   19.5|        Cash|             09:01:59|31/05/2024 09:01:59|2024-05-31 09:01:59|  2024-05-31 09:01:00|\n",
      "|TRIVANDRUM CITY D...|       31/05/2024|2024-12-04 09:02:31|      14146419|  1C 3 Duty 605|    Ordinary|     1614D|cIPyJWNe|          5|100876441886|      190|         Vembayam|         Mannanthala|          1|          0|         0|     0|              1|           9.73|   12.5|        Cash|             09:02:31|31/05/2024 09:02:31|2024-05-31 09:02:31|  2024-05-31 09:02:00|\n",
      "|    PEROORKADA Depot|       31/05/2024|2024-12-04 09:01:09|      14138723|  3A-1 Duty 405|    Ordinary|3A Magenta|NhhoJAsr|          6|100876437738|      228|Pattom Sut Office|Thampanoor Railwa...|          1|          0|         0|     0|              1|           3.86|   17.0|        Cash|             09:01:09|31/05/2024 09:01:09|2024-05-31 09:01:09|  2024-05-31 09:01:00|\n",
      "|    PEROORKADA Depot|       31/05/2024|2024-12-04 09:00:39|      14138653|  3C-1-Duty 401|    Ordinary|3C Magenta|pXrJZCnm|          6|100876436214|      255|          Kowdiar|Thampanoor Main B...|          2|          0|         0|     0|              2|            4.9|   19.5|        Cash|             09:00:39|31/05/2024 09:00:39|2024-05-31 09:00:39|  2024-05-31 09:00:00|\n",
      "+--------------------+-----------------+-------------------+--------------+---------------+------------+----------+--------+-----------+------------+---------+-----------------+--------------------+-----------+-----------+----------+------+---------------+---------------+-------+------------+---------------------+-------------------+-------------------+---------------------+\n",
      "only showing top 5 rows\n",
      "\n"
     ]
    }
   ],
   "source": [
    "# print(\"Schema after adding TICKET_DATETIME:\")\n",
    "# data.printSchema()\n",
    "data.show(5)"
   ]
  },
  {
   "cell_type": "code",
   "execution_count": 5,
   "metadata": {},
   "outputs": [
    {
     "name": "stderr",
     "output_type": "stream",
     "text": [
      "[Stage 5:======================>                                    (3 + 5) / 8]\r"
     ]
    },
    {
     "name": "stdout",
     "output_type": "stream",
     "text": [
      "+---------------------+--------------------+---------------+\n",
      "|TICKET_DATETIME_10MIN|      FROM_STOP_NAME|TOTAL_PASSENGER|\n",
      "+---------------------+--------------------+---------------+\n",
      "|  2024-05-31 01:45:00|    Peroorkada Depot|              1|\n",
      "|  2024-05-31 01:46:00|    Peroorkada Depot|              9|\n",
      "|  2024-05-31 01:47:00|    Peroorkada Depot|              1|\n",
      "|  2024-05-31 01:47:00|         Ambalamukku|              5|\n",
      "|  2024-05-31 01:48:00|         Ambalamukku|              7|\n",
      "|  2024-05-31 01:49:00|         Ambalamukku|              1|\n",
      "|  2024-05-31 02:00:00|         Ambalamukku|              3|\n",
      "|  2024-05-31 02:00:00|         Kumarapuram|              2|\n",
      "|  2024-05-31 02:00:00|   Pattom Sut Office|              1|\n",
      "|  2024-05-31 02:00:00|             Kowdiar|              3|\n",
      "|  2024-05-31 02:01:00|   Pattom Sut Office|              3|\n",
      "|  2024-05-31 02:01:00|         Ambalamukku|              3|\n",
      "|  2024-05-31 02:01:00|East Fort South B...|              3|\n",
      "|  2024-05-31 02:01:00|    Peroorkada Depot|              3|\n",
      "|  2024-05-31 02:01:00|         Kumarapuram|              3|\n",
      "|  2024-05-31 02:02:00|    Peroorkada Depot|              6|\n",
      "|  2024-05-31 02:02:00|       Vellayambalam|              1|\n",
      "|  2024-05-31 02:03:00|East Fort South B...|              4|\n",
      "|  2024-05-31 02:03:00|    Peroorkada Depot|              2|\n",
      "|  2024-05-31 02:03:00|   Pattom Sut Office|              1|\n",
      "|  2024-05-31 02:04:00|East Fort South B...|              5|\n",
      "|  2024-05-31 02:04:00|        Murinjapalam|              4|\n",
      "|  2024-05-31 02:04:00|     Kesavadasapuram|              1|\n",
      "|  2024-05-31 02:05:00|East Fort South B...|              4|\n",
      "|  2024-05-31 02:05:00|    Peroorkada Depot|              4|\n",
      "|  2024-05-31 02:05:00|             Kowdiar|              2|\n",
      "|  2024-05-31 02:05:00|        Murinjapalam|              3|\n",
      "|  2024-05-31 02:06:00|        Murinjapalam|              4|\n",
      "|  2024-05-31 02:06:00|    Peroorkada Depot|              6|\n",
      "|  2024-05-31 02:06:00|East Fort South B...|              6|\n",
      "|  2024-05-31 02:06:00|Palayam Fine Arts...|              7|\n",
      "|  2024-05-31 02:06:00|   Pattom Sut Office|              1|\n",
      "|  2024-05-31 02:07:00|        Murinjapalam|              3|\n",
      "|  2024-05-31 02:07:00|Palayam Fine Arts...|              4|\n",
      "|  2024-05-31 02:07:00|East Fort South B...|              5|\n",
      "|  2024-05-31 02:07:00|         Kumarapuram|              6|\n",
      "|  2024-05-31 02:08:00|         Kumarapuram|              9|\n",
      "|  2024-05-31 02:08:00|        Murinjapalam|              4|\n",
      "|  2024-05-31 02:08:00|Palayam Fine Arts...|              1|\n",
      "|  2024-05-31 02:09:00|East Fort South B...|              3|\n",
      "|  2024-05-31 02:09:00|Lms Corporation O...|              3|\n",
      "|  2024-05-31 02:09:00|         Kumarapuram|              4|\n",
      "|  2024-05-31 02:09:00|Palayam Fine Arts...|              1|\n",
      "|  2024-05-31 02:20:00|East Fort South B...|              2|\n",
      "|  2024-05-31 02:20:00|    Peroorkada Depot|              4|\n",
      "|  2024-05-31 02:20:00|         Kumarapuram|              4|\n",
      "|  2024-05-31 02:20:00|Medical College T...|              5|\n",
      "|  2024-05-31 02:21:00|East Fort South B...|              3|\n",
      "|  2024-05-31 02:21:00|             Kowdiar|              2|\n",
      "|  2024-05-31 02:21:00|           Mettukada|              3|\n",
      "+---------------------+--------------------+---------------+\n",
      "only showing top 50 rows\n",
      "\n"
     ]
    },
    {
     "name": "stderr",
     "output_type": "stream",
     "text": [
      "                                                                                \r"
     ]
    }
   ],
   "source": [
    "# # Group by TICKET_DATETIME, FROM_STOP_NAME, and TO_STOP_NAME, and sum the TOTAL_PASSENGER\n",
    "aggregated_data_from = (\n",
    "    data.groupBy(\"TICKET_DATETIME_10MIN\", \"FROM_STOP_NAME\")\n",
    "    .sum(\"TOTAL_PASSENGER\")\n",
    "    .withColumnRenamed(\"sum(TOTAL_PASSENGER)\", \"TOTAL_PASSENGER\")\n",
    ")\n",
    "# Sort by TICKET_DATETIME_5MIN\n",
    "aggregated_data_from = aggregated_data_from.orderBy(\"TICKET_DATETIME_10MIN\")\n",
    "aggregated_data_from.show(50)\n"
   ]
  },
  {
   "cell_type": "code",
   "execution_count": 6,
   "metadata": {},
   "outputs": [],
   "source": [
    "# !pip install folium geopy pyspark\n"
   ]
  },
  {
   "cell_type": "code",
   "execution_count": 14,
   "metadata": {},
   "outputs": [
    {
     "name": "stderr",
     "output_type": "stream",
     "text": [
      "                                                                                \r"
     ]
    }
   ],
   "source": [
    "from pyspark.sql import functions as F\n",
    "import folium\n",
    "import pandas as pd\n",
    "from geopy.geocoders import Nominatim\n",
    "from folium.plugins import MarkerCluster\n",
    "import time\n",
    "\n",
    "# Define the specific time range\n",
    "start_time = \"2024-06-01 04:45:00\"\n",
    "end_time = \"2024-06-09 12:45:00\"\n",
    "\n",
    "# Aggregate data to get total passenger count per bus stop within the time range\n",
    "# Sort by total passengers in descending order and select the top 20\n",
    "top_bus_stops = (\n",
    "    aggregated_data_from.groupBy(\"FROM_STOP_NAME\")\n",
    "    .agg(F.sum(\"TOTAL_PASSENGER\").alias(\"TOTAL_PASSENGER\"))\n",
    "    .orderBy(\"TOTAL_PASSENGER\", ascending=False)\n",
    "    .limit(100)\n",
    "    .collect()\n",
    ")\n"
   ]
  },
  {
   "cell_type": "code",
   "execution_count": null,
   "metadata": {},
   "outputs": [
    {
     "name": "stdout",
     "output_type": "stream",
     "text": [
      "Geocoding Successes: 75\n",
      "Geocoding Failures: 25\n"
     ]
    }
   ],
   "source": [
    "from geopy.geocoders import Nominatim\n",
    "import time\n",
    "\n",
    "# Prepare data for geocoding\n",
    "bus_stops_data = [{\"stop_name\": row[\"FROM_STOP_NAME\"], \"passenger_count\": row[\"TOTAL_PASSENGER\"]} for row in top_bus_stops]\n",
    "\n",
    "# Initialize the geocoder\n",
    "geolocator = Nominatim(user_agent=\"bus_stop_locator\")\n",
    "\n",
    "# Initialize counters for success and failure\n",
    "success_count = 0\n",
    "failure_count = 0\n",
    "failures = []\n",
    "# Geocode each bus stop with a timeout and sleep to avoid too many requests\n",
    "for stop in bus_stops_data:\n",
    "    try:\n",
    "        location = geolocator.geocode(stop[\"stop_name\"], timeout=20)\n",
    "        if location:\n",
    "            stop[\"latitude\"] = location.latitude\n",
    "            stop[\"longitude\"] = location.longitude\n",
    "            success_count += 1  # Increment success count\n",
    "        else:\n",
    "            stop[\"latitude\"] = None\n",
    "            stop[\"longitude\"] = None\n",
    "            failure_count += 1  # Increment failure count\n",
    "    except Exception as e:\n",
    "        print(f\"Error geocoding {stop['stop_name']}: {e}\")\n",
    "        stop[\"latitude\"] = None\n",
    "        stop[\"longitude\"] = None\n",
    "        failures.append(stop[\"stop_name\"])\n",
    "        failure_count += 1  # Increment failure count\n",
    "    time.sleep(1)  # Pause for 1 second between requests\n",
    "\n",
    "# Output the number of successes and failures\n",
    "print(f\"Geocoding Successes: {success_count}\")\n",
    "print(f\"Geocoding Failures: {failure_count}\")\n",
    "print(\"Failed to geocode the following bus stops:\")\n",
    "print(failures)\n"
   ]
  },
  {
   "cell_type": "code",
   "execution_count": null,
   "metadata": {},
   "outputs": [],
   "source": [
    "\n",
    "from folium.plugins import HeatMap\n",
    "# Filter out stops without coordinates\n",
    "stops_with_coords = [stop for stop in bus_stops_data if stop[\"latitude\"] is not None and stop[\"longitude\"] is not None]\n",
    "\n",
    "# Convert to Pandas DataFrame for easier handling with Folium\n",
    "stops_df = pd.DataFrame(stops_with_coords)\n",
    "\n",
    "# Initialize a Folium map centered around an average location\n",
    "map_center = [8.4869, 76.9529]\n",
    "m = folium.Map(location=map_center,tiles=\"CartoDB positron\" ,zoom_start=13,min_zoom=5,max_zoom=15)\n",
    "# Prepare data for HeatMap (latitude, longitude, and intensity)\n",
    "heat_data = []\n",
    "for _, row in stops_df.iterrows():\n",
    "    heat_data.append([row[\"latitude\"], row[\"longitude\"], row[\"passenger_count\"]])\n",
    "\n",
    "# Create the HeatMap layer\n",
    "HeatMap(\n",
    "    heat_data,\n",
    "    min_opacity=0.2,  # Minimum opacity (low-intensity areas will be more transparent)\n",
    "    max_opacity=0.8,  # Maximum opacity (high-intensity areas will be more visible)\n",
    "    radius=25,        # Adjust size of heat spots\n",
    "    blur=15,          # Amount of blur applied\n",
    "    gradient={        # Gradient color scale\n",
    "        0.2: 'blue',  # Low passenger count -> blue\n",
    "        0.4: 'green',\n",
    "        0.6: 'yellow',\n",
    "        0.8: 'red',   # High passenger count -> red\n",
    "    }\n",
    ").add_to(m)\n",
    "\n",
    "# Add popups for bus stops with their name and passenger count\n",
    "for _, row in stops_df.iterrows():\n",
    "    folium.Marker(\n",
    "        location=[row[\"latitude\"], row[\"longitude\"]],\n",
    "        popup=f\"<b>{row['stop_name']}</b><br>Passenger count: {row['passenger_count']}\",\n",
    "        icon=folium.Icon(color=\"blue\", icon=\"info-sign\")\n",
    "    ).add_to(m)\n",
    "\n",
    "# Save map to an HTML file\n",
    "m.save(\"passenger_density_map.html\")\n"
   ]
  },
  {
   "cell_type": "code",
   "execution_count": null,
   "metadata": {},
   "outputs": [],
   "source": [
    "# # Filter out stops without coordinates\n",
    "# stops_with_coords = [stop for stop in bus_stops_data if stop[\"latitude\"] is not None and stop[\"longitude\"] is not None]\n",
    "\n",
    "# # Convert to Pandas DataFrame for easier handling with Folium\n",
    "# stops_df = pd.DataFrame(stops_with_coords)\n",
    "\n",
    "# map_center = [8.4869, 76.9529]  # Coordinates for Kerala, India\n",
    "# m = folium.Map(location=map_center,tiles=\"CartoDB positron\" ,zoom_start=10,min_zoom=5,max_zoom=15)\n",
    "\n",
    "# # Add a marker cluster to group markers at higher zoom levels\n",
    "# marker_cluster = MarkerCluster().add_to(m)\n",
    "\n",
    "# # Add markers or circle markers based on passenger counts\n",
    "# for _, row in stops_df.iterrows():\n",
    "#     folium.CircleMarker(\n",
    "#         location=(row[\"latitude\"], row[\"longitude\"]),\n",
    "#         radius=row[\"passenger_count\"] / 1200,  # Adjust circle size by passenger count\n",
    "#         color=\"blue\",\n",
    "\n",
    "#         popup=f\"{row['stop_name']}: {row['passenger_count']} passengers\"\n",
    "#     ).add_to(marker_cluster)\n",
    "\n",
    "# # Save map to an HTML file\n",
    "# m.save(\"passenger_density_map2.html\")"
   ]
  },
  {
   "cell_type": "code",
   "execution_count": null,
   "metadata": {},
   "outputs": [],
   "source": [
    "# from pyspark.sql import functions as F\n",
    "# from pyspark.sql.functions import col\n",
    "# from geopy.geocoders import Nominatim\n",
    "# import folium\n",
    "# import pandas as pd\n",
    "\n",
    "# # Define the specific time range\n",
    "# start_time = \"2024-06-05 06:45:00\"\n",
    "# end_time = \"2024-06-05 10:45:00\"\n",
    "\n",
    "# # Aggregate data to get total passenger count per bus stop within the time range\n",
    "# # Sort by total passengers in descending order and select the top 20\n",
    "# top_bus_stops = (\n",
    "#     aggregated_data_from.groupBy(\"FROM_STOP_NAME\")\n",
    "#     .agg(F.sum(\"TOTAL_PASSENGER\").alias(\"TOTAL_PASSENGER\"))\n",
    "#     .orderBy(\"TOTAL_PASSENGER\", ascending=False)\n",
    "#     .limit(20)\n",
    "#     .collect()\n",
    "# )\n",
    "\n",
    "# # Prepare data for geocoding\n",
    "# bus_stops_data = [{\"stop_name\": row[\"FROM_STOP_NAME\"], \"passenger_count\": row[\"TOTAL_PASSENGER\"]} for row in top_bus_stops]\n",
    "\n",
    "# # Initialize the geocoder\n",
    "# geolocator = Nominatim(user_agent=\"bus_stop_locator\")\n",
    "\n",
    "# # Geocode each bus stop\n",
    "# for stop in bus_stops_data:\n",
    "#     location = geolocator.geocode(stop[\"stop_name\"], timeout=10)\n",
    "#     if location:\n",
    "#         stop[\"latitude\"] = location.latitude\n",
    "#         stop[\"longitude\"] = location.longitude\n",
    "#     else:\n",
    "#         stop[\"latitude\"] = None\n",
    "#         stop[\"longitude\"] = None"
   ]
  }
 ],
 "metadata": {
  "kernelspec": {
   "display_name": "Python 3",
   "language": "python",
   "name": "python3"
  },
  "language_info": {
   "codemirror_mode": {
    "name": "ipython",
    "version": 3
   },
   "file_extension": ".py",
   "mimetype": "text/x-python",
   "name": "python",
   "nbconvert_exporter": "python",
   "pygments_lexer": "ipython3",
   "version": "3.10.12"
  }
 },
 "nbformat": 4,
 "nbformat_minor": 2
}
